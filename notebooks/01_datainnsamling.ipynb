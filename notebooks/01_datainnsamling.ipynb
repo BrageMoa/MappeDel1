{
 "cells": [
  {
   "cell_type": "markdown",
   "id": "9a21ee01",
   "metadata": {},
   "source": [
    "# 01 - Datainnsamling\n",
    "\n",
    "Denne notebooken henter værdata fra MET Norge sin Locationforecast API for et spesifikt geografisk punkt (Trondheim). Data lagres lokalt i JSON-format for videre analyse.\n"
   ]
  },
  {
   "cell_type": "code",
   "execution_count": 30,
   "id": "b375f9c2",
   "metadata": {},
   "outputs": [],
   "source": [
    "import requests\n",
    "import json\n",
    "import os\n"
   ]
  },
  {
   "cell_type": "code",
   "execution_count": 31,
   "id": "f16d4592",
   "metadata": {},
   "outputs": [],
   "source": [
    "url = \"https://api.met.no/weatherapi/locationforecast/2.0/compact\"\n",
    "\n",
    "params = {\"lat\": 63.42, \"lon\": 10.39}  # Koordinater for Trondheim\n",
    "headers = {\"User-Agent\": \"Trø-IT Miljødataanalyse v1.0\"}\n"
   ]
  },
  {
   "cell_type": "code",
   "execution_count": 32,
   "id": "2255d144",
   "metadata": {},
   "outputs": [
    {
     "name": "stdout",
     "output_type": "stream",
     "text": [
      "Data lagret i 'data/miljodata.json'\n"
     ]
    }
   ],
   "source": [
    "try:\n",
    "    response = requests.get(url, params=params, headers=headers)\n",
    "    response.raise_for_status()  # Feil hvis 4xx eller 5xx\n",
    "    data = response.json()\n",
    "\n",
    "    #os.makedirs(\"data\", exist_ok=True)\n",
    "    with open(\"../data/miljodata.json\", \"w\", encoding=\"utf-8\") as f:\n",
    "        json.dump(data, f, indent=4)\n",
    "\n",
    "    print(\"Data lagret i 'data/miljodata.json'\")\n",
    "\n",
    "except requests.exceptions.RequestException as e:\n",
    "    print(f\"API-forespørsel feilet: {e}\")\n",
    "    data = None\n"
   ]
  },
  {
   "cell_type": "code",
   "execution_count": 33,
   "id": "1388df0b",
   "metadata": {},
   "outputs": [
    {
     "name": "stdout",
     "output_type": "stream",
     "text": [
      "Data lastet inn fra fil.\n"
     ]
    }
   ],
   "source": [
    "if data:\n",
    "    try:\n",
    "        with open(\"../data/miljodata.json\", \"r\", encoding=\"utf-8\") as f:\n",
    "            data = json.load(f)\n",
    "\n",
    "        print(\"Data lastet inn fra fil.\")\n",
    "\n",
    "    except (FileNotFoundError, json.JSONDecodeError) as e:\n",
    "        print(f\"Feil ved lesing av JSON-fil: {e}\")\n"
   ]
  },
  {
   "cell_type": "code",
   "execution_count": 34,
   "id": "8a259a5c",
   "metadata": {},
   "outputs": [
    {
     "name": "stdout",
     "output_type": "stream",
     "text": [
      "De 10 første temperaturverdiene:\n",
      "[6.3, 6.0, 5.6, 5.3, 5.2, 5.1, 5.5, 5.4, 5.8, 6.4]\n"
     ]
    }
   ],
   "source": [
    "if data:\n",
    "    try:\n",
    "        temps = [\n",
    "            entry[\"data\"][\"instant\"][\"details\"][\"air_temperature\"]\n",
    "            for entry in data[\"properties\"][\"timeseries\"]\n",
    "        ]\n",
    "\n",
    "        print(\"De 10 første temperaturverdiene:\")\n",
    "        print(temps[:10])\n",
    "\n",
    "    except KeyError as e:\n",
    "        print(f\"Manglende felt i JSON-strukturen: {e}\")\n"
   ]
  },
  {
   "cell_type": "markdown",
   "id": "fb259254",
   "metadata": {},
   "source": [
    "## Oppsummering\n",
    "\n",
    "- Data ble hentet fra MET Locationforecast API for Trondheim.\n",
    "- JSON-data ble lagret lokalt.\n",
    "- Vi verifiserte at strukturen inneholder temperaturdata.\n",
    "\n",
    "**Neste steg:** Gå videre til `02_forbehandling.ipynb` for å trekke ut og transformere dataene til et strukturert Pandas DataFrame.\n"
   ]
  }
 ],
 "metadata": {
  "kernelspec": {
   "display_name": ".venv",
   "language": "python",
   "name": "python3"
  },
  "language_info": {
   "codemirror_mode": {
    "name": "ipython",
    "version": 3
   },
   "file_extension": ".py",
   "mimetype": "text/x-python",
   "name": "python",
   "nbconvert_exporter": "python",
   "pygments_lexer": "ipython3",
   "version": "3.13.3"
  }
 },
 "nbformat": 4,
 "nbformat_minor": 5
}
